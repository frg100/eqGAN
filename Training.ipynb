{
 "cells": [
  {
   "cell_type": "markdown",
   "metadata": {},
   "source": [
    "# eqGAN Training Notebook\n",
    "\n",
    "An attempt to perform automatic music mastering using a Generative Adversarial Network"
   ]
  },
  {
   "cell_type": "markdown",
   "metadata": {},
   "source": [
    "### Make sure that these constants are set correctly!"
   ]
  },
  {
   "cell_type": "code",
   "execution_count": 1,
   "metadata": {},
   "outputs": [],
   "source": [
    "# Constants\n",
    "USING_GPU = True\n",
    "AVAILABLE_GPUS=\"0,1,2,3,4,5\"\n",
    "CUDANO = 0\n",
    "\n",
    "D_LR = 1e-3\n",
    "G_LR = 1e-3\n",
    "EPOCHS = 10\n",
    "IS_DIRECT = False # Direct or Indirect Reconstruction (See Paper for more details)\n",
    "SAMPLE_LENGTH = 110229 # Less than 661794\n",
    "\n",
    "\n",
    "RUN_NAME = 'cnn_gan_run_1'"
   ]
  },
  {
   "cell_type": "markdown",
   "metadata": {},
   "source": [
    "You should (hopefully) be able to run the rest of the cells without editing anything"
   ]
  },
  {
   "cell_type": "code",
   "execution_count": 2,
   "metadata": {},
   "outputs": [
    {
     "name": "stderr",
     "output_type": "stream",
     "text": [
      "/lfs/turing2/0/frg100/gpuvenv/lib/python3.7/site-packages/torchaudio/backend/utils.py:54: UserWarning: \"sox\" backend is being deprecated. The default backend will be changed to \"sox_io\" backend in 0.8.0 and \"sox\" backend will be removed in 0.9.0. Please migrate to \"sox_io\" backend. Please refer to https://github.com/pytorch/audio/issues/903 for the detail.\n",
      "  '\"sox\" backend is being deprecated. '\n"
     ]
    }
   ],
   "source": [
    "import torch\n",
    "import torchaudio\n",
    "import requests\n",
    "import matplotlib.pyplot as plt\n",
    "import numpy as np"
   ]
  },
  {
   "cell_type": "markdown",
   "metadata": {},
   "source": [
    "## Download the dataset"
   ]
  },
  {
   "cell_type": "code",
   "execution_count": 23,
   "metadata": {},
   "outputs": [],
   "source": [
    "# Construct a torch.utils.data.Dataset and DataLoader\n",
    "gtzan_data = torchaudio.datasets.GTZAN('.', download=False)\n",
    "\n",
    "def collate_fn(batch):\n",
    "    # Takes in a list (batch) of samples (waveform, sample_rate, label)\n",
    "    batch_size = len(batch)\n",
    "    waveforms = []\n",
    "    for waveform, sample_rate, label in batch:\n",
    "        if waveform.size(1) == 661794:\n",
    "            waveforms.append(waveform)\n",
    "        elif waveform.size(1) > 661794:\n",
    "            waveforms.append(waveform[:,:661794])\n",
    "        else:\n",
    "            diff = 661794 - waveform.size(1)\n",
    "            waveforms.append(torch.nn.functional.pad(waveform,(0,diff)))\n",
    "            \n",
    "        \n",
    "    waveform_batch = torch.stack(waveforms, dim=0)\n",
    "    # Returns a tuple collated with sizes (torch.Size([batch_size, 1, 661794]), )\n",
    "    return waveform_batch, sample_rate, label\n",
    "\n",
    "gtzan_loader = torch.utils.data.DataLoader(gtzan_data, batch_size=10, shuffle=False, num_workers=6, collate_fn=collate_fn)"
   ]
  },
  {
   "cell_type": "code",
   "execution_count": 24,
   "metadata": {},
   "outputs": [],
   "source": [
    "def visualize_wav(waveform, domain='time'):\n",
    "    \"\"\"\n",
    "    A function to visualize a waveform in the time or frequency domain\n",
    "    \"\"\"\n",
    "    wav = torch.squeeze(waveform, dim=0)\n",
    "    if domain == 'freq':\n",
    "        plt.figure(figsize=(50,30))\n",
    "        specgram = torchaudio.transforms.Spectrogram()(wav)\n",
    "        plt.imshow(specgram.log2()[0,:,:].numpy(), cmap='gray')\n",
    "    elif domain == 'time':\n",
    "        plt.figure()\n",
    "        plt.plot(wav.t().numpy())\n",
    "    else:\n",
    "        print('Invalid domain')"
   ]
  },
  {
   "cell_type": "code",
   "execution_count": 25,
   "metadata": {},
   "outputs": [
    {
     "name": "stdout",
     "output_type": "stream",
     "text": [
      "Shape of waveform: torch.Size([10, 1, 661794])\n",
      "Sample rate of waveform: 22050\n"
     ]
    },
    {
     "data": {
      "image/png": "[encoded data removed]",
      "text/plain": [
       "<Figure size 432x288 with 1 Axes>"
      ]
     },
     "metadata": {
      "needs_background": "light"
     },
     "output_type": "display_data"
    }
   ],
   "source": [
    "# Show a single example\n",
    "example_wav, example_sr = None, None\n",
    "for waveform, sample_rate, label in gtzan_loader:\n",
    "    print(\"Shape of waveform: {}\".format(waveform.size()))\n",
    "    print(\"Sample rate of waveform: {}\".format(sample_rate))\n",
    "    example_wav, example_sr = waveform[0,:,:], sample_rate\n",
    "\n",
    "    visualize_wav(waveform[0,:,:])\n",
    "    break"
   ]
  },
  {
   "cell_type": "markdown",
   "metadata": {},
   "source": [
    "### Implement EQ operations"
   ]
  },
  {
   "cell_type": "code",
   "execution_count": 26,
   "metadata": {},
   "outputs": [],
   "source": [
    "# Define the EQ transform\n",
    "from scipy.stats import loguniform\n",
    "\n",
    "class RandomEQ(object):\n",
    "    \"\"\"EQ the waveform in a sample randomly.\n",
    "\n",
    "    Args:\n",
    "        output_size (tuple or int): Desired output size. If int, square crop\n",
    "            is made.\n",
    "    \"\"\"\n",
    "\n",
    "    def __init__(self, sample_rate):\n",
    "        assert isinstance(sample_rate, (float, int))\n",
    "        self.sample_rate = sample_rate\n",
    "        \n",
    "        # EQ Constants\n",
    "        self.FREQ_RANGE = [0.01, 20] # in kHZ\n",
    "        self.GAIN_RANGE = [-15, 15] # in dB\n",
    "        self.Q_RANGE = [0.1, 18]\n",
    "\n",
    "    def __call__(self, waveform, verbose=False):\n",
    "        # TODO: Make some of these normals\n",
    "        center_freq = loguniform.rvs(self.FREQ_RANGE[0], self.FREQ_RANGE[1])\n",
    "        gain = np.random.uniform(self.GAIN_RANGE[0], self.GAIN_RANGE[1])\n",
    "        Q = np.random.uniform(self.Q_RANGE[0], self.Q_RANGE[1])\n",
    "\n",
    "        center_freq = 1\n",
    "        gain = -10\n",
    "        Q = 1\n",
    "        \n",
    "        if verbose:\n",
    "            print(\n",
    "                f\"Applying random EQ with center frequency of \",\n",
    "                f\"{center_freq} kHZ, gain of {gain} dB, and Q = {Q}\"\n",
    "            )\n",
    "\n",
    "        equalized_waveform = torchaudio.functional.equalizer_biquad(\n",
    "            waveform, self.sample_rate,\n",
    "            center_freq=center_freq*1e3, gain=gain, Q=Q\n",
    "        ) \n",
    "\n",
    "        return equalized_waveform"
   ]
  },
  {
   "cell_type": "code",
   "execution_count": 27,
   "metadata": {},
   "outputs": [
    {
     "name": "stdout",
     "output_type": "stream",
     "text": [
      "Shape of waveform: torch.Size([10, 1, 661794])\n",
      "Sample rate of waveform: 22050\n"
     ]
    },
    {
     "data": {
      "image/png": "[encoded data removed]",
      "text/plain": [
       "<Figure size 432x288 with 1 Axes>"
      ]
     },
     "metadata": {
      "needs_background": "light"
     },
     "output_type": "display_data"
    },
    {
     "data": {
      "image/png": "[encoded data removed]",
      "text/plain": [
       "<Figure size 432x288 with 1 Axes>"
      ]
     },
     "metadata": {
      "needs_background": "light"
     },
     "output_type": "display_data"
    }
   ],
   "source": [
    "# Show a single example\n",
    "eq_transform = RandomEQ(example_sr)\n",
    "for waveform, sample_rate, label in gtzan_loader:\n",
    "    print(\"Shape of waveform: {}\".format(waveform.size()))\n",
    "    print(\"Sample rate of waveform: {}\".format(sample_rate))\n",
    "\n",
    "    visualize_wav(waveform[0,:,:])\n",
    "    visualize_wav(eq_transform(waveform[0,:,:]))\n",
    "    break"
   ]
  },
  {
   "cell_type": "markdown",
   "metadata": {},
   "source": [
    "### Learn an EQ operation\n",
    "\n",
    "We want to test whether or not we can have a model learn an EQ operation by reconstructing the non-equalized version of the waveform"
   ]
  },
  {
   "cell_type": "code",
   "execution_count": 28,
   "metadata": {},
   "outputs": [],
   "source": [
    "import os\n",
    "\n",
    "device = 'cpu'\n",
    "\n",
    "if USING_GPU:\n",
    "    os.environ[\"CUDA_DEVICE_ORDER\"]=\"PCI_BUS_ID\"\n",
    "    os.environ[\"CUDA_VISIBLE_DEVICES\"]=AVAILABLE_GPUS\n",
    "    device = f'cuda:{CUDANO}'\n",
    "\n",
    "if not os.path.exists(f\"EQ/{RUN_NAME}\"):\n",
    "    os.mkdir(f\"EQ/{RUN_NAME}\")"
   ]
  },
  {
   "cell_type": "code",
   "execution_count": 201,
   "metadata": {},
   "outputs": [],
   "source": [
    "import torch.fft as fft\n",
    "\n",
    "class EQReconstructor(torch.nn.Module):\n",
    "    def __init__(self, sample_rate, sample_length, direct=False):\n",
    "        \"\"\"\n",
    "        In the constructor we instantiate the layers\n",
    "        \"\"\"\n",
    "        super().__init__()\n",
    "        \n",
    "        # Params\n",
    "        self.sample_rate = sample_rate\n",
    "        self.sample_length = sample_length\n",
    "        self.direct = direct\n",
    "        self.indirect = not direct\n",
    "\n",
    "        # Audio transforms\n",
    "        self.synthetic_transform = RandomEQ(self.sample_rate)       \n",
    "        self.specgram = torchaudio.transforms.Spectrogram()\n",
    "        \n",
    "        # CNN Layers\n",
    "        self.conv1 = torch.nn.Conv2d(in_channels=1, out_channels=4, kernel_size=7, padding=3) #p = (f-1)/2\n",
    "        self.pool = torch.nn.MaxPool2d(2, 2)\n",
    "        self.conv2 = torch.nn.Conv2d(in_channels=4, out_channels=1, kernel_size=7, padding=3)\n",
    "        self.fc1 = torch.nn.Linear(100 * 276, 120)\n",
    "        self.fc2 = torch.nn.Linear(120, SAMPLE_LENGTH)\n",
    "\n",
    "    def forward(self, waveform):\n",
    "        \"\"\"\n",
    "        In the forward function we accept an input waveform, apply a random\n",
    "        EQ, and then try to reconstruct it.\n",
    "        \n",
    "        Params:\n",
    "            waveform is an audio wav of shape [batch_size, 1, length]\n",
    "        \"\"\"\n",
    "        # print(\"Pre-processing wav\")\n",
    "        #print(f\"waveform.shape: {waveform.shape}\")\n",
    "        with torch.no_grad():\n",
    "            equalized_wav = self.synthetic_transform(waveform)\n",
    "            \n",
    "        # Turn audio into spectrogram\n",
    "        specgram = self.specgram(equalized_wav) #torch.Size([batch_size, 1, 201, 552])\n",
    "        \n",
    "        # Run spectrogram through CNN \n",
    "        x = specgram\n",
    "        x = self.conv1(x)\n",
    "        x = torch.nn.functional.relu(x)\n",
    "        x = self.conv2(x)\n",
    "        x = self.pool(torch.nn.functional.relu(x))\n",
    "\n",
    "        if self.direct:\n",
    "            # Generate output spectrogram\n",
    "            # Turn output spectrogram back into audio\n",
    "            reconstructed_wav = waveform\n",
    "\n",
    "        if self.indirect:\n",
    "            # Use output to generate a filter kernel\n",
    "            x = x.view(-1, 100 * 276)\n",
    "            x = torch.nn.functional.relu(self.fc1(x))\n",
    "            x = torch.nn.functional.relu(self.fc2(x))\n",
    "            kernel = x.view(-1, waveform.shape[-1]) #[batch, n_frames, n_impulse_response] n_f * n_imp = waveform.shape(-1) [110,229]\n",
    "            \n",
    "            # Apply the filter kernel\n",
    "            #print(f\"equalized_wav.shape: {equalized_wav.shape}\")\n",
    "            signal = torch.nn.functional.pad(equalized_wav, (0, equalized_wav.shape[-1]))\n",
    "            #print(f\"signal.shape: {signal.shape}\")\n",
    "            kernel = torch.nn.functional.pad(kernel, (kernel.shape[-1], 0))\n",
    "            #print(f\"kernel.shape: {kernel.shape}\")\n",
    "\n",
    "            output = fft.irfft(fft.rfft(signal) * fft.rfft(kernel))\n",
    "            #print(f\"output.shape: {output.shape}\")\n",
    "            output = output[..., output.shape[-1] // 2:]\n",
    "            output = torch.mean(output, dim=-2, keepdim=True)\n",
    "            #print(f\"output.shape: {output.shape}\")\n",
    "            \n",
    "            reconstructed_wav = output\n",
    "            \n",
    "        return reconstructed_wav"
   ]
  },
  {
   "cell_type": "code",
   "execution_count": 202,
   "metadata": {},
   "outputs": [],
   "source": [
    "criterion = torch.nn.MSELoss()\n",
    "def loss_function(output, waveform):\n",
    "    \"\"\"\n",
    "    Here we define the loss function that the model will try to optimize.\n",
    "    In this case, a simple reconstruction loss\n",
    "    \"\"\"\n",
    "    reconstructed_wav = output\n",
    "    loss = criterion(waveform, reconstructed_wav)\n",
    "    return loss"
   ]
  },
  {
   "cell_type": "code",
   "execution_count": 203,
   "metadata": {},
   "outputs": [],
   "source": [
    "class EQEvaluator(torch.nn.Module):\n",
    "    def __init__(self, sample_rate, sample_length):\n",
    "        \"\"\"\n",
    "        In the constructor we instantiate the layers\n",
    "        \"\"\"\n",
    "        super().__init__()\n",
    "        \n",
    "        # Params\n",
    "        self.sample_rate = sample_rate\n",
    "        self.sample_length = sample_length\n",
    "        \n",
    "        # Audio transforms\n",
    "        self.specgram = torchaudio.transforms.Spectrogram()\n",
    "        \n",
    "        # CNN Layers\n",
    "        self.conv1 = torch.nn.Conv2d(in_channels=1, out_channels=4, kernel_size=7, padding=3) #p = (f-1)/2\n",
    "        self.pool = torch.nn.MaxPool2d(2, 2)\n",
    "        self.conv2 = torch.nn.Conv2d(in_channels=4, out_channels=1, kernel_size=7, padding=3)\n",
    "        self.fc1 = torch.nn.Linear(100 * 276, 120)\n",
    "        self.fc2 = torch.nn.Linear(120, 1)\n",
    "\n",
    "    def forward(self, waveform):\n",
    "        \"\"\"\n",
    "        In the forward function we accept an input waveform, run it through\n",
    "        an LSTM, and decide if it's mastered or unmastered\n",
    "        \"\"\"\n",
    "        \n",
    "        # Turn audio into spectrogram\n",
    "        specgram = self.specgram(waveform) #torch.Size([batch_size, 1, 201, 552])\n",
    "        \n",
    "        # Run spectrogram through CNN \n",
    "        x = specgram\n",
    "        x = self.conv1(x)\n",
    "        x = torch.nn.functional.relu(x)\n",
    "        x = self.conv2(x)\n",
    "        x = self.pool(torch.nn.functional.relu(x))\n",
    "        \n",
    "        # Use output to generate the final prediction\n",
    "        x = x.view(-1, 100 * 276)\n",
    "        x = torch.nn.functional.relu(self.fc1(x))\n",
    "        logit = torch.nn.functional.relu(self.fc2(x))\n",
    "        \n",
    "        return logit"
   ]
  },
  {
   "cell_type": "code",
   "execution_count": 204,
   "metadata": {},
   "outputs": [
    {
     "name": "stdout",
     "output_type": "stream",
     "text": [
      "Let's use 6 GPUs!\n",
      "Device  0 GeForce RTX 2080 Ti\n",
      "Memory Usage:\n",
      "Allocated: 0.2 GB\n",
      "Cached:    0.4 GB\n",
      "Device  1 GeForce RTX 2080 Ti\n",
      "Memory Usage:\n",
      "Allocated: 0.2 GB\n",
      "Cached:    0.3 GB\n",
      "Device  2 GeForce RTX 2080 Ti\n",
      "Memory Usage:\n",
      "Allocated: 0.2 GB\n",
      "Cached:    0.3 GB\n",
      "Device  3 GeForce RTX 2080 Ti\n",
      "Memory Usage:\n",
      "Allocated: 0.2 GB\n",
      "Cached:    0.3 GB\n",
      "Device  4 GeForce RTX 2080 Ti\n",
      "Memory Usage:\n",
      "Allocated: 0.2 GB\n",
      "Cached:    0.3 GB\n",
      "Device  5 GeForce RTX 2080 Ti\n",
      "Memory Usage:\n",
      "Allocated: 0.0 GB\n",
      "Cached:    0.0 GB\n"
     ]
    }
   ],
   "source": [
    "generator = EQReconstructor(sample_rate=22050, sample_length=SAMPLE_LENGTH, direct=IS_DIRECT).to(device) \n",
    "discriminator = EQEvaluator(sample_rate=22050, sample_length=SAMPLE_LENGTH).to(device)\n",
    "gen_optimizer = torch.optim.SGD(generator.parameters(), lr=G_LR)\n",
    "disc_optimizer = torch.optim.SGD(discriminator.parameters(), lr=D_LR)\n",
    "\n",
    "bce_loss = torch.nn.BCEWithLogitsLoss()\n",
    "\n",
    "num_gpus = torch.cuda.device_count()\n",
    "if num_gpus > 1:\n",
    "    print(\"Let's use\", num_gpus , \"GPUs!\")\n",
    "    generator = torch.nn.DataParallel(generator)\n",
    "    discriminator = torch.nn.DataParallel(discriminator)\n",
    "    \n",
    "for i in range(num_gpus):\n",
    "    print(\"Device \", i, torch.cuda.get_device_name(i))\n",
    "    print('Memory Usage:')\n",
    "    print('Allocated:', round(torch.cuda.memory_allocated(i)/1024**3,1), 'GB')\n",
    "    print('Cached:   ', round(torch.cuda.memory_reserved(i)/1024**3,1), 'GB')\n",
    "    \n",
    "# print(os.popen(\"source cuda10.0\").read())\n",
    "\n",
    "# print(os.popen(\"nvidia-htop.py\").read())\n",
    "# print(os.popen(\"nvidia-smi\").read())"
   ]
  },
  {
   "cell_type": "code",
   "execution_count": 207,
   "metadata": {},
   "outputs": [
    {
     "name": "stdout",
     "output_type": "stream",
     "text": [
      "Epoch 0/10\n",
      "Processing batch 1/100\n"
     ]
    },
    {
     "data": {
      "image/png": "[encoded data removed]",
      "text/plain": [
       "<Figure size 432x288 with 1 Axes>"
      ]
     },
     "metadata": {
      "needs_background": "light"
     },
     "output_type": "display_data"
    },
    {
     "name": "stdout",
     "output_type": "stream",
     "text": [
      "Processing batch 2/100\n",
      "Processing batch 3/100\n",
      "Processing batch 4/100\n",
      "Processing batch 5/100\n",
      "Processing batch 6/100\n",
      "Processing batch 7/100\n",
      "Processing batch 8/100\n",
      "Processing batch 9/100\n",
      "Processing batch 10/100\n",
      "Processing batch 11/100\n"
     ]
    },
    {
     "data": {
      "image/png": "[encoded data removed]",
      "text/plain": [
       "<Figure size 432x288 with 1 Axes>"
      ]
     },
     "metadata": {
      "needs_background": "light"
     },
     "output_type": "display_data"
    },
    {
     "name": "stdout",
     "output_type": "stream",
     "text": [
      "Processing batch 12/100\n",
      "Processing batch 13/100\n",
      "Processing batch 14/100\n",
      "Processing batch 15/100\n",
      "Processing batch 16/100\n",
      "Processing batch 17/100\n",
      "Processing batch 18/100\n",
      "Processing batch 19/100\n",
      "Processing batch 20/100\n",
      "Processing batch 21/100\n"
     ]
    },
    {
     "data": {
      "image/png": "[encoded data removed]",
      "text/plain": [
       "<Figure size 432x288 with 1 Axes>"
      ]
     },
     "metadata": {
      "needs_background": "light"
     },
     "output_type": "display_data"
    },
    {
     "name": "stdout",
     "output_type": "stream",
     "text": [
      "Processing batch 22/100\n",
      "Processing batch 23/100\n",
      "Processing batch 24/100\n",
      "Processing batch 25/100\n",
      "Processing batch 26/100\n",
      "Processing batch 27/100\n",
      "Processing batch 28/100\n",
      "Processing batch 29/100\n",
      "Processing batch 30/100\n",
      "Processing batch 31/100\n"
     ]
    },
    {
     "data": {
      "image/png": "[encoded data removed]",
      "text/plain": [
       "<Figure size 432x288 with 1 Axes>"
      ]
     },
     "metadata": {
      "needs_background": "light"
     },
     "output_type": "display_data"
    },
    {
     "name": "stdout",
     "output_type": "stream",
     "text": [
      "Processing batch 32/100\n",
      "Processing batch 33/100\n"
     ]
    },
    {
     "ename": "KeyboardInterrupt",
     "evalue": "",
     "output_type": "error",
     "traceback": [
      "\u001b[0;31m---------------------------------------------------------------------------\u001b[0m",
      "\u001b[0;31mKeyboardInterrupt\u001b[0m                         Traceback (most recent call last)",
      "\u001b[0;32m<ipython-input-207-6448b9c2591b>\u001b[0m in \u001b[0;36m<module>\u001b[0;34m\u001b[0m\n\u001b[1;32m     89\u001b[0m             \u001b[0mreal\u001b[0m \u001b[0;34m=\u001b[0m \u001b[0mwaveform\u001b[0m\u001b[0;34m[\u001b[0m\u001b[0;34m:\u001b[0m\u001b[0;34m,\u001b[0m\u001b[0;34m:\u001b[0m\u001b[0;34m,\u001b[0m\u001b[0;34m:\u001b[0m\u001b[0mSAMPLE_LENGTH\u001b[0m\u001b[0;34m]\u001b[0m\u001b[0;34m.\u001b[0m\u001b[0mto\u001b[0m\u001b[0;34m(\u001b[0m\u001b[0mdevice\u001b[0m\u001b[0;34m)\u001b[0m\u001b[0;34m\u001b[0m\u001b[0;34m\u001b[0m\u001b[0m\n\u001b[1;32m     90\u001b[0m             \u001b[0;31m#print(f\"Real shape: {real.shape}\")\u001b[0m\u001b[0;34m\u001b[0m\u001b[0;34m\u001b[0m\u001b[0;34m\u001b[0m\u001b[0m\n\u001b[0;32m---> 91\u001b[0;31m             \u001b[0mfake\u001b[0m \u001b[0;34m=\u001b[0m \u001b[0mgenerator\u001b[0m\u001b[0;34m(\u001b[0m\u001b[0mreal\u001b[0m\u001b[0;34m)\u001b[0m\u001b[0;34m\u001b[0m\u001b[0;34m\u001b[0m\u001b[0m\n\u001b[0m\u001b[1;32m     92\u001b[0m             \u001b[0;31m#print(f\"Fake shape: {fake.shape}\")\u001b[0m\u001b[0;34m\u001b[0m\u001b[0;34m\u001b[0m\u001b[0;34m\u001b[0m\u001b[0m\n\u001b[1;32m     93\u001b[0m             \u001b[0mlogits\u001b[0m \u001b[0;34m=\u001b[0m \u001b[0mdiscriminator\u001b[0m\u001b[0;34m(\u001b[0m\u001b[0mfake\u001b[0m\u001b[0;34m)\u001b[0m\u001b[0;34m\u001b[0m\u001b[0;34m\u001b[0m\u001b[0m\n",
      "\u001b[0;32m/lfs/turing2/0/frg100/gpuvenv/lib/python3.7/site-packages/torch/nn/modules/module.py\u001b[0m in \u001b[0;36m_call_impl\u001b[0;34m(self, *input, **kwargs)\u001b[0m\n\u001b[1;32m    725\u001b[0m             \u001b[0mresult\u001b[0m \u001b[0;34m=\u001b[0m \u001b[0mself\u001b[0m\u001b[0;34m.\u001b[0m\u001b[0m_slow_forward\u001b[0m\u001b[0;34m(\u001b[0m\u001b[0;34m*\u001b[0m\u001b[0minput\u001b[0m\u001b[0;34m,\u001b[0m \u001b[0;34m**\u001b[0m\u001b[0mkwargs\u001b[0m\u001b[0;34m)\u001b[0m\u001b[0;34m\u001b[0m\u001b[0;34m\u001b[0m\u001b[0m\n\u001b[1;32m    726\u001b[0m         \u001b[0;32melse\u001b[0m\u001b[0;34m:\u001b[0m\u001b[0;34m\u001b[0m\u001b[0;34m\u001b[0m\u001b[0m\n\u001b[0;32m--> 727\u001b[0;31m             \u001b[0mresult\u001b[0m \u001b[0;34m=\u001b[0m \u001b[0mself\u001b[0m\u001b[0;34m.\u001b[0m\u001b[0mforward\u001b[0m\u001b[0;34m(\u001b[0m\u001b[0;34m*\u001b[0m\u001b[0minput\u001b[0m\u001b[0;34m,\u001b[0m \u001b[0;34m**\u001b[0m\u001b[0mkwargs\u001b[0m\u001b[0;34m)\u001b[0m\u001b[0;34m\u001b[0m\u001b[0;34m\u001b[0m\u001b[0m\n\u001b[0m\u001b[1;32m    728\u001b[0m         for hook in itertools.chain(\n\u001b[1;32m    729\u001b[0m                 \u001b[0m_global_forward_hooks\u001b[0m\u001b[0;34m.\u001b[0m\u001b[0mvalues\u001b[0m\u001b[0;34m(\u001b[0m\u001b[0;34m)\u001b[0m\u001b[0;34m,\u001b[0m\u001b[0;34m\u001b[0m\u001b[0;34m\u001b[0m\u001b[0m\n",
      "\u001b[0;32m/lfs/turing2/0/frg100/gpuvenv/lib/python3.7/site-packages/torch/nn/parallel/data_parallel.py\u001b[0m in \u001b[0;36mforward\u001b[0;34m(self, *inputs, **kwargs)\u001b[0m\n\u001b[1;32m    159\u001b[0m             \u001b[0;32mreturn\u001b[0m \u001b[0mself\u001b[0m\u001b[0;34m.\u001b[0m\u001b[0mmodule\u001b[0m\u001b[0;34m(\u001b[0m\u001b[0;34m*\u001b[0m\u001b[0minputs\u001b[0m\u001b[0;34m[\u001b[0m\u001b[0;36m0\u001b[0m\u001b[0;34m]\u001b[0m\u001b[0;34m,\u001b[0m \u001b[0;34m**\u001b[0m\u001b[0mkwargs\u001b[0m\u001b[0;34m[\u001b[0m\u001b[0;36m0\u001b[0m\u001b[0;34m]\u001b[0m\u001b[0;34m)\u001b[0m\u001b[0;34m\u001b[0m\u001b[0;34m\u001b[0m\u001b[0m\n\u001b[1;32m    160\u001b[0m         \u001b[0mreplicas\u001b[0m \u001b[0;34m=\u001b[0m \u001b[0mself\u001b[0m\u001b[0;34m.\u001b[0m\u001b[0mreplicate\u001b[0m\u001b[0;34m(\u001b[0m\u001b[0mself\u001b[0m\u001b[0;34m.\u001b[0m\u001b[0mmodule\u001b[0m\u001b[0;34m,\u001b[0m \u001b[0mself\u001b[0m\u001b[0;34m.\u001b[0m\u001b[0mdevice_ids\u001b[0m\u001b[0;34m[\u001b[0m\u001b[0;34m:\u001b[0m\u001b[0mlen\u001b[0m\u001b[0;34m(\u001b[0m\u001b[0minputs\u001b[0m\u001b[0;34m)\u001b[0m\u001b[0;34m]\u001b[0m\u001b[0;34m)\u001b[0m\u001b[0;34m\u001b[0m\u001b[0;34m\u001b[0m\u001b[0m\n\u001b[0;32m--> 161\u001b[0;31m         \u001b[0moutputs\u001b[0m \u001b[0;34m=\u001b[0m \u001b[0mself\u001b[0m\u001b[0;34m.\u001b[0m\u001b[0mparallel_apply\u001b[0m\u001b[0;34m(\u001b[0m\u001b[0mreplicas\u001b[0m\u001b[0;34m,\u001b[0m \u001b[0minputs\u001b[0m\u001b[0;34m,\u001b[0m \u001b[0mkwargs\u001b[0m\u001b[0;34m)\u001b[0m\u001b[0;34m\u001b[0m\u001b[0;34m\u001b[0m\u001b[0m\n\u001b[0m\u001b[1;32m    162\u001b[0m         \u001b[0;32mreturn\u001b[0m \u001b[0mself\u001b[0m\u001b[0;34m.\u001b[0m\u001b[0mgather\u001b[0m\u001b[0;34m(\u001b[0m\u001b[0moutputs\u001b[0m\u001b[0;34m,\u001b[0m \u001b[0mself\u001b[0m\u001b[0;34m.\u001b[0m\u001b[0moutput_device\u001b[0m\u001b[0;34m)\u001b[0m\u001b[0;34m\u001b[0m\u001b[0;34m\u001b[0m\u001b[0m\n\u001b[1;32m    163\u001b[0m \u001b[0;34m\u001b[0m\u001b[0m\n",
      "\u001b[0;32m/lfs/turing2/0/frg100/gpuvenv/lib/python3.7/site-packages/torch/nn/parallel/data_parallel.py\u001b[0m in \u001b[0;36mparallel_apply\u001b[0;34m(self, replicas, inputs, kwargs)\u001b[0m\n\u001b[1;32m    169\u001b[0m \u001b[0;34m\u001b[0m\u001b[0m\n\u001b[1;32m    170\u001b[0m     \u001b[0;32mdef\u001b[0m \u001b[0mparallel_apply\u001b[0m\u001b[0;34m(\u001b[0m\u001b[0mself\u001b[0m\u001b[0;34m,\u001b[0m \u001b[0mreplicas\u001b[0m\u001b[0;34m,\u001b[0m \u001b[0minputs\u001b[0m\u001b[0;34m,\u001b[0m \u001b[0mkwargs\u001b[0m\u001b[0;34m)\u001b[0m\u001b[0;34m:\u001b[0m\u001b[0;34m\u001b[0m\u001b[0;34m\u001b[0m\u001b[0m\n\u001b[0;32m--> 171\u001b[0;31m         \u001b[0;32mreturn\u001b[0m \u001b[0mparallel_apply\u001b[0m\u001b[0;34m(\u001b[0m\u001b[0mreplicas\u001b[0m\u001b[0;34m,\u001b[0m \u001b[0minputs\u001b[0m\u001b[0;34m,\u001b[0m \u001b[0mkwargs\u001b[0m\u001b[0;34m,\u001b[0m \u001b[0mself\u001b[0m\u001b[0;34m.\u001b[0m\u001b[0mdevice_ids\u001b[0m\u001b[0;34m[\u001b[0m\u001b[0;34m:\u001b[0m\u001b[0mlen\u001b[0m\u001b[0;34m(\u001b[0m\u001b[0mreplicas\u001b[0m\u001b[0;34m)\u001b[0m\u001b[0;34m]\u001b[0m\u001b[0;34m)\u001b[0m\u001b[0;34m\u001b[0m\u001b[0;34m\u001b[0m\u001b[0m\n\u001b[0m\u001b[1;32m    172\u001b[0m \u001b[0;34m\u001b[0m\u001b[0m\n\u001b[1;32m    173\u001b[0m     \u001b[0;32mdef\u001b[0m \u001b[0mgather\u001b[0m\u001b[0;34m(\u001b[0m\u001b[0mself\u001b[0m\u001b[0;34m,\u001b[0m \u001b[0moutputs\u001b[0m\u001b[0;34m,\u001b[0m \u001b[0moutput_device\u001b[0m\u001b[0;34m)\u001b[0m\u001b[0;34m:\u001b[0m\u001b[0;34m\u001b[0m\u001b[0;34m\u001b[0m\u001b[0m\n",
      "\u001b[0;32m/lfs/turing2/0/frg100/gpuvenv/lib/python3.7/site-packages/torch/nn/parallel/parallel_apply.py\u001b[0m in \u001b[0;36mparallel_apply\u001b[0;34m(modules, inputs, kwargs_tup, devices)\u001b[0m\n\u001b[1;32m     76\u001b[0m             \u001b[0mthread\u001b[0m\u001b[0;34m.\u001b[0m\u001b[0mstart\u001b[0m\u001b[0;34m(\u001b[0m\u001b[0;34m)\u001b[0m\u001b[0;34m\u001b[0m\u001b[0;34m\u001b[0m\u001b[0m\n\u001b[1;32m     77\u001b[0m         \u001b[0;32mfor\u001b[0m \u001b[0mthread\u001b[0m \u001b[0;32min\u001b[0m \u001b[0mthreads\u001b[0m\u001b[0;34m:\u001b[0m\u001b[0;34m\u001b[0m\u001b[0;34m\u001b[0m\u001b[0m\n\u001b[0;32m---> 78\u001b[0;31m             \u001b[0mthread\u001b[0m\u001b[0;34m.\u001b[0m\u001b[0mjoin\u001b[0m\u001b[0;34m(\u001b[0m\u001b[0;34m)\u001b[0m\u001b[0;34m\u001b[0m\u001b[0;34m\u001b[0m\u001b[0m\n\u001b[0m\u001b[1;32m     79\u001b[0m     \u001b[0;32melse\u001b[0m\u001b[0;34m:\u001b[0m\u001b[0;34m\u001b[0m\u001b[0;34m\u001b[0m\u001b[0m\n\u001b[1;32m     80\u001b[0m         \u001b[0m_worker\u001b[0m\u001b[0;34m(\u001b[0m\u001b[0;36m0\u001b[0m\u001b[0;34m,\u001b[0m \u001b[0mmodules\u001b[0m\u001b[0;34m[\u001b[0m\u001b[0;36m0\u001b[0m\u001b[0;34m]\u001b[0m\u001b[0;34m,\u001b[0m \u001b[0minputs\u001b[0m\u001b[0;34m[\u001b[0m\u001b[0;36m0\u001b[0m\u001b[0;34m]\u001b[0m\u001b[0;34m,\u001b[0m \u001b[0mkwargs_tup\u001b[0m\u001b[0;34m[\u001b[0m\u001b[0;36m0\u001b[0m\u001b[0;34m]\u001b[0m\u001b[0;34m,\u001b[0m \u001b[0mdevices\u001b[0m\u001b[0;34m[\u001b[0m\u001b[0;36m0\u001b[0m\u001b[0;34m]\u001b[0m\u001b[0;34m)\u001b[0m\u001b[0;34m\u001b[0m\u001b[0;34m\u001b[0m\u001b[0m\n",
      "\u001b[0;32m/usr/local/lib/python3.7/threading.py\u001b[0m in \u001b[0;36mjoin\u001b[0;34m(self, timeout)\u001b[0m\n\u001b[1;32m   1030\u001b[0m \u001b[0;34m\u001b[0m\u001b[0m\n\u001b[1;32m   1031\u001b[0m         \u001b[0;32mif\u001b[0m \u001b[0mtimeout\u001b[0m \u001b[0;32mis\u001b[0m \u001b[0;32mNone\u001b[0m\u001b[0;34m:\u001b[0m\u001b[0;34m\u001b[0m\u001b[0;34m\u001b[0m\u001b[0m\n\u001b[0;32m-> 1032\u001b[0;31m             \u001b[0mself\u001b[0m\u001b[0;34m.\u001b[0m\u001b[0m_wait_for_tstate_lock\u001b[0m\u001b[0;34m(\u001b[0m\u001b[0;34m)\u001b[0m\u001b[0;34m\u001b[0m\u001b[0;34m\u001b[0m\u001b[0m\n\u001b[0m\u001b[1;32m   1033\u001b[0m         \u001b[0;32melse\u001b[0m\u001b[0;34m:\u001b[0m\u001b[0;34m\u001b[0m\u001b[0;34m\u001b[0m\u001b[0m\n\u001b[1;32m   1034\u001b[0m             \u001b[0;31m# the behavior of a negative timeout isn't documented, but\u001b[0m\u001b[0;34m\u001b[0m\u001b[0;34m\u001b[0m\u001b[0;34m\u001b[0m\u001b[0m\n",
      "\u001b[0;32m/usr/local/lib/python3.7/threading.py\u001b[0m in \u001b[0;36m_wait_for_tstate_lock\u001b[0;34m(self, block, timeout)\u001b[0m\n\u001b[1;32m   1046\u001b[0m         \u001b[0;32mif\u001b[0m \u001b[0mlock\u001b[0m \u001b[0;32mis\u001b[0m \u001b[0;32mNone\u001b[0m\u001b[0;34m:\u001b[0m  \u001b[0;31m# already determined that the C code is done\u001b[0m\u001b[0;34m\u001b[0m\u001b[0;34m\u001b[0m\u001b[0m\n\u001b[1;32m   1047\u001b[0m             \u001b[0;32massert\u001b[0m \u001b[0mself\u001b[0m\u001b[0;34m.\u001b[0m\u001b[0m_is_stopped\u001b[0m\u001b[0;34m\u001b[0m\u001b[0;34m\u001b[0m\u001b[0m\n\u001b[0;32m-> 1048\u001b[0;31m         \u001b[0;32melif\u001b[0m \u001b[0mlock\u001b[0m\u001b[0;34m.\u001b[0m\u001b[0macquire\u001b[0m\u001b[0;34m(\u001b[0m\u001b[0mblock\u001b[0m\u001b[0;34m,\u001b[0m \u001b[0mtimeout\u001b[0m\u001b[0;34m)\u001b[0m\u001b[0;34m:\u001b[0m\u001b[0;34m\u001b[0m\u001b[0;34m\u001b[0m\u001b[0m\n\u001b[0m\u001b[1;32m   1049\u001b[0m             \u001b[0mlock\u001b[0m\u001b[0;34m.\u001b[0m\u001b[0mrelease\u001b[0m\u001b[0;34m(\u001b[0m\u001b[0;34m)\u001b[0m\u001b[0;34m\u001b[0m\u001b[0;34m\u001b[0m\u001b[0m\n\u001b[1;32m   1050\u001b[0m             \u001b[0mself\u001b[0m\u001b[0;34m.\u001b[0m\u001b[0m_stop\u001b[0m\u001b[0;34m(\u001b[0m\u001b[0;34m)\u001b[0m\u001b[0;34m\u001b[0m\u001b[0;34m\u001b[0m\u001b[0m\n",
      "\u001b[0;31mKeyboardInterrupt\u001b[0m: "
     ]
    }
   ],
   "source": [
    "losses = {\n",
    "    'generator': {\n",
    "        'epoch': [],\n",
    "        'sample': []\n",
    "    },\n",
    "    'discriminator': {\n",
    "        'epoch': [],\n",
    "        'sample': []\n",
    "    }\n",
    "}\n",
    "for epoch in range(EPOCHS):\n",
    "    print(f\"Epoch {epoch}/{EPOCHS}\")\n",
    "    \n",
    "#     # Train Discriminator\n",
    "#     print(\"Training Discriminator on real samples and fake reconstructed samples\")\n",
    "#     losses['discriminator']['epoch'].append(0)\n",
    "#     for idx, batch in enumerate(gtzan_loader):\n",
    "#         # Extract data\n",
    "#         print(f\"Processing batch {idx+1}/{len(gtzan_loader)}\")\n",
    "#         waveform, sample_rate, label = batch\n",
    "\n",
    "#         # Forward pass\n",
    "#         real = torch.transpose(waveform, 0, -1)\n",
    "#         real = torch.transpose(real, -2, -1)\n",
    "#         real = real[:SAMPLE_LENGTH,:,:].to(device)\n",
    "#         fake = generator(real).detach()\n",
    "        \n",
    "#         # Get logits for both real and fake\n",
    "#         fake_logits = discriminator(fake)\n",
    "#         real_logits = discriminator(real)\n",
    "        \n",
    "#         # Compute loss\n",
    "#         fake_loss = bce_loss(fake_logits, torch.zeros_like(fake_logits))\n",
    "#         real_loss = bce_loss(real_logits, torch.ones_like(real_logits))\n",
    "#         loss = (fake_loss + real_loss)/2\n",
    "#         losses['discriminator']['epoch'][-1] += loss.item()\n",
    "#         losses['discriminator']['sample'].append(loss.item())\n",
    "        \n",
    "#         if idx % 10 == 0:\n",
    "#             plt.plot(losses['discriminator']['sample'])\n",
    "#             plt.ylabel('Discriminator Sample Loss')\n",
    "#             plt.xlabel('Samples')\n",
    "#             plt.title(f'Discriminator Sample Loss on GTZAN 5-second examples, {epoch} epochs, {idx} samples')\n",
    "#             plt.show()\n",
    "\n",
    "#             torch.save({\n",
    "#                 \"models\": {\n",
    "#                     \"generator\": generator.state_dict(),\n",
    "#                     \"discriminator\": discriminator.state_dict()\n",
    "#                 },\n",
    "#                 \"optimizers\": {\n",
    "#                     \"generator\": gen_optimizer.state_dict(),\n",
    "#                     \"discriminator\": disc_optimizer.state_dict()\n",
    "#                 },\n",
    "#                 \"hyperparameters\": {\n",
    "#                     \"epochs\": EPOCHS,\n",
    "#                     \"sample_rate\": 22050,\n",
    "#                     \"sample_length\": SAMPLE_LENGTH,\n",
    "#                     \"direct\": IS_DIRECT,\n",
    "#                     \"lr\": D_LR,\n",
    "#                 },\n",
    "#                 \"stage\": \"discriminator\",\n",
    "#                 \"losses\": losses,\n",
    "#                 \"epochs\": epoch,\n",
    "#                 \"idx\": idx\n",
    "#             }, f'./{RUN_NAME}.pt')\n",
    "        \n",
    "#         # Apply optimization\n",
    "#         disc_optimizer.zero_grad()\n",
    "#         loss.backward()\n",
    "#         disc_optimizer.step()\n",
    "        \n",
    "#     # Plot loss\n",
    "#     plt.plot(losses['discriminator']['epoch'])\n",
    "#     plt.ylabel('Discriminator Epoch Loss')\n",
    "#     plt.xlabel('Epochs')\n",
    "#     plt.title(f'Discriminator Epoch Loss on GTZAN 5-second examples, {epoch} Epochs')\n",
    "#     plt.show()\n",
    "    \n",
    "    # Train Generator\n",
    "    losses['generator']['epoch'].append(0)\n",
    "    for repetition in range(5):\n",
    "        for idx, batch in enumerate(gtzan_loader):\n",
    "            # Extract data\n",
    "            print(f\"Processing batch {idx+1}/{len(gtzan_loader)}\")\n",
    "            waveform, sample_rate, label = batch\n",
    "\n",
    "            # Forward pass\n",
    "            real = waveform[:,:,:SAMPLE_LENGTH].to(device)\n",
    "            #print(f\"Real shape: {real.shape}\")\n",
    "            fake = generator(real)\n",
    "            #print(f\"Fake shape: {fake.shape}\")\n",
    "            logits = discriminator(fake)\n",
    "\n",
    "            if idx == 0:\n",
    "                wav = real[0,:,:] # Get the first sample in the batch\n",
    "                output = fake[0,:,:] # Get the first sample in the batch\n",
    "                eq = RandomEQ(sample_rate)\n",
    "                torchaudio.save(\n",
    "                    f'EQ/{RUN_NAME}/sample_original.wav',\n",
    "                    torch.squeeze(torch.transpose(wav.to('cpu'), 0, 1), axis=-1),\n",
    "                    sample_rate\n",
    "                )\n",
    "                torchaudio.save(\n",
    "                    f'EQ/{RUN_NAME}/sample_eqd.wav',\n",
    "                    torch.squeeze(torch.transpose(eq(wav).to('cpu'), 0, 1), axis=-1),\n",
    "                    sample_rate\n",
    "                )\n",
    "                torchaudio.save(\n",
    "                    f'EQ/{RUN_NAME}/sample_reconstructed_{epoch}.wav',\n",
    "                    torch.squeeze(torch.transpose(output.to('cpu'), 0, 1), axis=-1),\n",
    "                    sample_rate\n",
    "                )\n",
    "\n",
    "            # Compute and print loss\n",
    "            loss = loss_function(fake, real)\n",
    "            loss += bce_loss(logits, torch.ones_like(logits))\n",
    "\n",
    "            losses['generator']['epoch'][-1] += loss.item()\n",
    "            losses['generator']['sample'].append(loss.item())\n",
    "\n",
    "            if idx % 10 == 0:\n",
    "                plt.plot(losses['generator']['sample'])\n",
    "                plt.ylabel('Generator Sample Loss')\n",
    "                plt.xlabel('Samples')\n",
    "                plt.title(f'Generator Sample Loss on GTZAN 5-second examples, {epoch} epochs, {idx} samples')\n",
    "                plt.show()\n",
    "\n",
    "                torch.save({\n",
    "                    \"models\": {\n",
    "                        \"generator\": generator.state_dict(),\n",
    "                        \"discriminator\": discriminator.state_dict()\n",
    "                    },\n",
    "                    \"optimizers\": {\n",
    "                        \"generator\": gen_optimizer.state_dict(),\n",
    "                        \"discriminator\": disc_optimizer.state_dict()\n",
    "                    },\n",
    "                    \"hyperparameters\": {\n",
    "                        \"epochs\": EPOCHS,\n",
    "                        \"sample_rate\": 22050,\n",
    "                        \"sample_length\": SAMPLE_LENGTH,\n",
    "                        \"direct\": IS_DIRECT,\n",
    "                        \"lr\": G_LR,\n",
    "                    },\n",
    "                    \"stage\": generator,\n",
    "                    \"losses\": losses,\n",
    "                    \"epochs\": epoch,\n",
    "                    \"idx\": idx\n",
    "                }, f'./{RUN_NAME}.pt')\n",
    "\n",
    "            # Perform a backward pass, and update the weights.\n",
    "            # Zero gradients\n",
    "            gen_optimizer.zero_grad()\n",
    "            loss.backward()\n",
    "            gen_optimizer.step()\n",
    "\n",
    "    # Plot loss\n",
    "    plt.plot(losses['generator']['epoch'])\n",
    "    plt.ylabel('Generator Epoch Loss')\n",
    "    plt.xlabel('Epochs')\n",
    "    plt.title(f'Generator Epoch Loss on GTZAN 5-second examples, {epoch} Epochs')\n",
    "    plt.show()\n",
    "    \n",
    "    print(f\"Epoch [{epoch}/{EPOCHS}], generator loss: {losses['generator']['epoch']} discriminator loss: {losses['discriminator']['epoch']}\")"
   ]
  },
  {
   "cell_type": "code",
   "execution_count": 208,
   "metadata": {},
   "outputs": [
    {
     "data": {
      "text/plain": [
       "{'generator': {'epoch': [632.0351200699806],\n",
       "  'sample': [391.3170166015625,\n",
       "   0.729870080947876,\n",
       "   0.9888642430305481,\n",
       "   1.3969699144363403,\n",
       "   94.930419921875,\n",
       "   1.3770644664764404,\n",
       "   2.3234970569610596,\n",
       "   85.44957733154297,\n",
       "   2.0914249420166016,\n",
       "   1.2033793926239014,\n",
       "   0.7145722508430481,\n",
       "   0.6428006887435913,\n",
       "   0.6605969667434692,\n",
       "   0.8032222986221313,\n",
       "   4.83420991897583,\n",
       "   10.750373840332031,\n",
       "   3.0901970863342285,\n",
       "   0.7165445685386658,\n",
       "   0.8848745822906494,\n",
       "   3.0716171264648438,\n",
       "   6.9491071701049805,\n",
       "   0.8126169443130493,\n",
       "   0.79969322681427,\n",
       "   0.9009429216384888,\n",
       "   0.8771997690200806,\n",
       "   1.261780023574829,\n",
       "   0.9005210399627686,\n",
       "   0.8321144580841064,\n",
       "   1.2224845886230469,\n",
       "   1.2997832298278809,\n",
       "   4.596973896026611,\n",
       "   3.604809522628784]},\n",
       " 'discriminator': {'epoch': [], 'sample': []}}"
      ]
     },
     "execution_count": 208,
     "metadata": {},
     "output_type": "execute_result"
    }
   ],
   "source": [
    "losses['generato']"
   ]
  },
  {
   "cell_type": "code",
   "execution_count": null,
   "metadata": {},
   "outputs": [],
   "source": [
    "checkpoint_path = f'./{RUN_NAME}.pt'"
   ]
  },
  {
   "cell_type": "code",
   "execution_count": 53,
   "metadata": {},
   "outputs": [],
   "source": [
    "def save_checkpoint(model, optimizer, path):\n",
    "    torch.save({\n",
    "        \"model\": model.state_dict(),\n",
    "        \"opt\": optimizer.state_dict(),\n",
    "        \"hyperparameters\": {\n",
    "            \"epochs\": EPOCHS,\n",
    "            \"sample_rate\": 22050,\n",
    "            \"sample_length\": 110229,\n",
    "            \"direct\": True,\n",
    "            \"lr\": LR,\n",
    "        },\n",
    "        \"losses\": losses\n",
    "    }, path)"
   ]
  },
  {
   "cell_type": "code",
   "execution_count": 54,
   "metadata": {},
   "outputs": [
    {
     "ename": "NameError",
     "evalue": "name 'model' is not defined",
     "output_type": "error",
     "traceback": [
      "\u001b[0;31m---------------------------------------------------------------------------\u001b[0m",
      "\u001b[0;31mNameError\u001b[0m                                 Traceback (most recent call last)",
      "\u001b[0;32m<ipython-input-54-0f29834e0d51>\u001b[0m in \u001b[0;36m<module>\u001b[0;34m\u001b[0m\n\u001b[0;32m----> 1\u001b[0;31m \u001b[0msave_checkpoint\u001b[0m\u001b[0;34m(\u001b[0m\u001b[0mmodel\u001b[0m\u001b[0;34m,\u001b[0m \u001b[0moptimizer\u001b[0m\u001b[0;34m,\u001b[0m \u001b[0mcheckpoint_path\u001b[0m\u001b[0;34m)\u001b[0m\u001b[0;34m\u001b[0m\u001b[0;34m\u001b[0m\u001b[0m\n\u001b[0m",
      "\u001b[0;31mNameError\u001b[0m: name 'model' is not defined"
     ]
    }
   ],
   "source": [
    "save_checkpoint(model, optimizer, checkpoint_path)"
   ]
  },
  {
   "cell_type": "code",
   "execution_count": null,
   "metadata": {},
   "outputs": [],
   "source": [
    "plt.plot(losses)\n",
    "plt.ylabel('loss')\n",
    "plt.xlabel('epochs')\n",
    "plt.title(f'Epoch Loss on GTZAN 5-second examples, {EPOCHS} Epochs')\n",
    "plt.savefig('gtzan_5_sec_10_epochs_epoch_loss.png')"
   ]
  },
  {
   "cell_type": "code",
   "execution_count": null,
   "metadata": {},
   "outputs": [],
   "source": [
    "plt.plot(full_losses)\n",
    "plt.ylabel('loss')\n",
    "plt.xlabel('samples')\n",
    "plt.title(f'Sample Loss on GTZAN 5-second examples, {EPOCHS} Epochs')\n",
    "plt.savefig('gtzan_5_sec_10_epochs_sample_loss.png')"
   ]
  },
  {
   "cell_type": "code",
   "execution_count": null,
   "metadata": {},
   "outputs": [],
   "source": []
  }
 ],
 "metadata": {
  "kernelspec": {
   "display_name": "gpuvenv",
   "language": "python",
   "name": "gpuvenv"
  },
  "language_info": {
   "codemirror_mode": {
    "name": "ipython",
    "version": 3
   },
   "file_extension": ".py",
   "mimetype": "text/x-python",
   "name": "python",
   "nbconvert_exporter": "python",
   "pygments_lexer": "ipython3",
   "version": "3.7.3"
  }
 },
 "nbformat": 4,
 "nbformat_minor": 2
}
