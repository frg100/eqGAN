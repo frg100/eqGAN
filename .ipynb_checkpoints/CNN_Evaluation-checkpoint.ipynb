{
 "cells": [
  {
   "cell_type": "markdown",
   "metadata": {},
   "source": [
    "# eqGAN Training Notebook\n",
    "\n",
    "An attempt to perform automatic music mastering using a Generative Adversarial Network"
   ]
  },
  {
   "cell_type": "markdown",
   "metadata": {},
   "source": [
    "### Make sure that these constants are set correctly!"
   ]
  },
  {
   "cell_type": "code",
   "execution_count": 7,
   "metadata": {},
   "outputs": [],
   "source": [
    "# Constants\n",
    "USING_GPU = True\n",
    "AVAILABLE_GPUS=\"0,1,2,3,4,5\"\n",
    "CUDANO = 0\n",
    "\n",
    "D_LR = 1e-3\n",
    "G_LR = 1e-3\n",
    "EPOCHS = 10\n",
    "IS_DIRECT = False # Direct or Indirect Reconstruction (See Paper for more details)\n",
    "SAMPLE_LENGTH = 110229 # Less than 661794\n",
    "\n",
    "\n",
    "RUN_NAME = 'cnn_gan_run_2'"
   ]
  },
  {
   "cell_type": "markdown",
   "metadata": {},
   "source": [
    "You should (hopefully) be able to run the rest of the cells without editing anything"
   ]
  },
  {
   "cell_type": "code",
   "execution_count": 8,
   "metadata": {},
   "outputs": [
    {
     "name": "stderr",
     "output_type": "stream",
     "text": [
      "/lfs/turing2/0/frg100/gpuvenv/lib/python3.7/site-packages/torchaudio/backend/utils.py:54: UserWarning: \"sox\" backend is being deprecated. The default backend will be changed to \"sox_io\" backend in 0.8.0 and \"sox\" backend will be removed in 0.9.0. Please migrate to \"sox_io\" backend. Please refer to https://github.com/pytorch/audio/issues/903 for the detail.\n",
      "  '\"sox\" backend is being deprecated. '\n"
     ]
    }
   ],
   "source": [
    "import torch\n",
    "import torchaudio\n",
    "import requests\n",
    "import matplotlib.pyplot as plt\n",
    "import numpy as np"
   ]
  },
  {
   "cell_type": "markdown",
   "metadata": {},
   "source": [
    "## Download the dataset"
   ]
  },
  {
   "cell_type": "code",
   "execution_count": 9,
   "metadata": {},
   "outputs": [],
   "source": [
    "# Construct a torch.utils.data.Dataset and DataLoader\n",
    "gtzan_data = torchaudio.datasets.GTZAN('.', download=False)\n",
    "\n",
    "def collate_fn(batch):\n",
    "    # Takes in a list (batch) of samples (waveform, sample_rate, label)\n",
    "    batch_size = len(batch)\n",
    "    waveforms = []\n",
    "    for waveform, sample_rate, label in batch:\n",
    "        if waveform.size(1) == 661794:\n",
    "            waveforms.append(waveform)\n",
    "        elif waveform.size(1) > 661794:\n",
    "            waveforms.append(waveform[:,:661794])\n",
    "        else:\n",
    "            diff = 661794 - waveform.size(1)\n",
    "            waveforms.append(torch.nn.functional.pad(waveform,(0,diff)))\n",
    "            \n",
    "        \n",
    "    waveform_batch = torch.stack(waveforms, dim=0)\n",
    "    # Returns a tuple collated with sizes (torch.Size([batch_size, 1, 661794]), )\n",
    "    return waveform_batch, sample_rate, label\n",
    "\n",
    "gtzan_loader = torch.utils.data.DataLoader(gtzan_data, batch_size=10, shuffle=False, num_workers=6, collate_fn=collate_fn)"
   ]
  },
  {
   "cell_type": "code",
   "execution_count": 10,
   "metadata": {},
   "outputs": [],
   "source": [
    "def visualize_wav(waveform, domain='time'):\n",
    "    \"\"\"\n",
    "    A function to visualize a waveform in the time or frequency domain\n",
    "    \"\"\"\n",
    "    wav = torch.squeeze(waveform, dim=0)\n",
    "    if domain == 'freq':\n",
    "        plt.figure(figsize=(50,30))\n",
    "        specgram = torchaudio.transforms.Spectrogram()(wav)\n",
    "        plt.imshow(specgram.log2()[0,:,:].numpy(), cmap='gray')\n",
    "    elif domain == 'time':\n",
    "        plt.figure()\n",
    "        plt.plot(wav.t().numpy())\n",
    "    else:\n",
    "        print('Invalid domain')"
   ]
  },
  {
   "cell_type": "code",
   "execution_count": 11,
   "metadata": {},
   "outputs": [
    {
     "name": "stdout",
     "output_type": "stream",
     "text": [
      "Shape of waveform: torch.Size([10, 1, 661794])\n",
      "Sample rate of waveform: 22050\n"
     ]
    },
    {
     "data": {
      "image/png": "[encoded data removed]",
      "text/plain": [
       "<Figure size 432x288 with 1 Axes>"
      ]
     },
     "metadata": {
      "needs_background": "light"
     },
     "output_type": "display_data"
    }
   ],
   "source": [
    "# Show a single example\n",
    "example_wav, example_sr = None, None\n",
    "for waveform, sample_rate, label in gtzan_loader:\n",
    "    print(\"Shape of waveform: {}\".format(waveform.size()))\n",
    "    print(\"Sample rate of waveform: {}\".format(sample_rate))\n",
    "    example_wav, example_sr = waveform[0,:,:], sample_rate\n",
    "\n",
    "    visualize_wav(waveform[0,:,:])\n",
    "    break"
   ]
  },
  {
   "cell_type": "markdown",
   "metadata": {},
   "source": [
    "### Implement EQ operations"
   ]
  },
  {
   "cell_type": "code",
   "execution_count": 12,
   "metadata": {},
   "outputs": [],
   "source": [
    "# Define the EQ transform\n",
    "from scipy.stats import loguniform\n",
    "\n",
    "class RandomEQ(object):\n",
    "    \"\"\"EQ the waveform in a sample randomly.\n",
    "\n",
    "    Args:\n",
    "        output_size (tuple or int): Desired output size. If int, square crop\n",
    "            is made.\n",
    "    \"\"\"\n",
    "\n",
    "    def __init__(self, sample_rate):\n",
    "        assert isinstance(sample_rate, (float, int))\n",
    "        self.sample_rate = sample_rate\n",
    "        \n",
    "        # EQ Constants\n",
    "        self.FREQ_RANGE = [0.01, 20] # in kHZ\n",
    "        self.GAIN_RANGE = [-15, 15] # in dB\n",
    "        self.Q_RANGE = [0.1, 18]\n",
    "\n",
    "    def __call__(self, waveform, verbose=False):\n",
    "        # TODO: Make some of these normals\n",
    "        center_freq = loguniform.rvs(self.FREQ_RANGE[0], self.FREQ_RANGE[1])\n",
    "        gain = np.random.uniform(self.GAIN_RANGE[0], self.GAIN_RANGE[1])\n",
    "        Q = np.random.uniform(self.Q_RANGE[0], self.Q_RANGE[1])\n",
    "\n",
    "        center_freq = 1\n",
    "        gain = -10\n",
    "        Q = 1\n",
    "        \n",
    "        if verbose:\n",
    "            print(\n",
    "                f\"Applying random EQ with center frequency of \",\n",
    "                f\"{center_freq} kHZ, gain of {gain} dB, and Q = {Q}\"\n",
    "            )\n",
    "\n",
    "        equalized_waveform = torchaudio.functional.equalizer_biquad(\n",
    "            waveform, self.sample_rate,\n",
    "            center_freq=center_freq*1e3, gain=gain, Q=Q\n",
    "        ) \n",
    "\n",
    "        return equalized_waveform"
   ]
  },
  {
   "cell_type": "code",
   "execution_count": 13,
   "metadata": {},
   "outputs": [
    {
     "name": "stdout",
     "output_type": "stream",
     "text": [
      "Shape of waveform: torch.Size([10, 1, 661794])\n",
      "Sample rate of waveform: 22050\n"
     ]
    },
    {
     "data": {
      "image/png": "[encoded data removed]",
      "text/plain": [
       "<Figure size 432x288 with 1 Axes>"
      ]
     },
     "metadata": {
      "needs_background": "light"
     },
     "output_type": "display_data"
    },
    {
     "data": {
      "image/png": "[encoded data removed]",
      "text/plain": [
       "<Figure size 432x288 with 1 Axes>"
      ]
     },
     "metadata": {
      "needs_background": "light"
     },
     "output_type": "display_data"
    }
   ],
   "source": [
    "# Show a single example\n",
    "eq_transform = RandomEQ(example_sr)\n",
    "for waveform, sample_rate, label in gtzan_loader:\n",
    "    print(\"Shape of waveform: {}\".format(waveform.size()))\n",
    "    print(\"Sample rate of waveform: {}\".format(sample_rate))\n",
    "\n",
    "    visualize_wav(waveform[0,:,:])\n",
    "    visualize_wav(eq_transform(waveform[0,:,:]))\n",
    "    break"
   ]
  },
  {
   "cell_type": "markdown",
   "metadata": {},
   "source": [
    "### Learn an EQ operation\n",
    "\n",
    "We want to test whether or not we can have a model learn an EQ operation by reconstructing the non-equalized version of the waveform"
   ]
  },
  {
   "cell_type": "code",
   "execution_count": 14,
   "metadata": {},
   "outputs": [],
   "source": [
    "import os\n",
    "\n",
    "device = 'cpu'\n",
    "\n",
    "if USING_GPU:\n",
    "    os.environ[\"CUDA_DEVICE_ORDER\"]=\"PCI_BUS_ID\"\n",
    "    os.environ[\"CUDA_VISIBLE_DEVICES\"]=AVAILABLE_GPUS\n",
    "    device = f'cuda:{CUDANO}'\n",
    "\n",
    "if not os.path.exists(f\"EQ/{RUN_NAME}\"):\n",
    "    os.mkdir(f\"EQ/{RUN_NAME}\")"
   ]
  },
  {
   "cell_type": "code",
   "execution_count": 15,
   "metadata": {},
   "outputs": [],
   "source": [
    "import torch.fft as fft\n",
    "\n",
    "class EQReconstructor(torch.nn.Module):\n",
    "    def __init__(self, sample_rate, sample_length, direct=False):\n",
    "        \"\"\"\n",
    "        In the constructor we instantiate the layers\n",
    "        \"\"\"\n",
    "        super().__init__()\n",
    "        \n",
    "        # Params\n",
    "        self.sample_rate = sample_rate\n",
    "        self.sample_length = sample_length\n",
    "        self.direct = direct\n",
    "        self.indirect = not direct\n",
    "\n",
    "        # Audio transforms\n",
    "        self.synthetic_transform = RandomEQ(self.sample_rate)       \n",
    "        self.specgram = torchaudio.transforms.Spectrogram()\n",
    "        \n",
    "        # CNN Layers\n",
    "        self.conv1 = torch.nn.Conv2d(in_channels=1, out_channels=4, kernel_size=7, padding=3) #p = (f-1)/2\n",
    "        self.pool = torch.nn.MaxPool2d(2, 2)\n",
    "        self.conv2 = torch.nn.Conv2d(in_channels=4, out_channels=1, kernel_size=7, padding=3)\n",
    "        self.fc1 = torch.nn.Linear(100 * 276, 120)\n",
    "        self.fc2 = torch.nn.Linear(120, SAMPLE_LENGTH)\n",
    "\n",
    "    def forward(self, waveform):\n",
    "        \"\"\"\n",
    "        In the forward function we accept an input waveform, apply a random\n",
    "        EQ, and then try to reconstruct it.\n",
    "        \n",
    "        Params:\n",
    "            waveform is an audio wav of shape [batch_size, 1, length]\n",
    "        \"\"\"\n",
    "        # print(\"Pre-processing wav\")\n",
    "        #print(f\"waveform.shape: {waveform.shape}\")\n",
    "        with torch.no_grad():\n",
    "            equalized_wav = self.synthetic_transform(waveform)\n",
    "            \n",
    "        # Turn audio into spectrogram\n",
    "        specgram = self.specgram(equalized_wav) #torch.Size([batch_size, 1, 201, 552])\n",
    "        \n",
    "        # Run spectrogram through CNN \n",
    "        x = specgram\n",
    "        x = self.conv1(x)\n",
    "        x = torch.nn.functional.relu(x)\n",
    "        x = self.conv2(x)\n",
    "        x = self.pool(torch.nn.functional.relu(x))\n",
    "\n",
    "        if self.direct:\n",
    "            # Generate output spectrogram\n",
    "            # Turn output spectrogram back into audio\n",
    "            reconstructed_wav = waveform\n",
    "\n",
    "        if self.indirect:\n",
    "            # Use output to generate a filter kernel\n",
    "            x = x.view(-1, 100 * 276)\n",
    "            x = torch.nn.functional.relu(self.fc1(x))\n",
    "            x = torch.nn.functional.relu(self.fc2(x))\n",
    "            kernel = x.view(-1, waveform.shape[-1]) #[batch, n_frames, n_impulse_response] n_f * n_imp = waveform.shape(-1) [110,229]\n",
    "            \n",
    "            # Apply the filter kernel\n",
    "            #print(f\"equalized_wav.shape: {equalized_wav.shape}\")\n",
    "            signal = torch.nn.functional.pad(equalized_wav, (0, equalized_wav.shape[-1]))\n",
    "            #print(f\"signal.shape: {signal.shape}\")\n",
    "            kernel = torch.nn.functional.pad(kernel, (kernel.shape[-1], 0))\n",
    "            #print(f\"kernel.shape: {kernel.shape}\")\n",
    "\n",
    "            output = fft.irfft(fft.rfft(signal) * fft.rfft(kernel))\n",
    "            #print(f\"output.shape: {output.shape}\")\n",
    "            output = output[..., output.shape[-1] // 2:]\n",
    "            output = torch.unsqueeze(output[:,0,:],dim=-2)\n",
    "            #print(f\"output.shape: {output.shape}\")\n",
    "            \n",
    "            reconstructed_wav = output\n",
    "            \n",
    "        return reconstructed_wav"
   ]
  },
  {
   "cell_type": "code",
   "execution_count": 16,
   "metadata": {},
   "outputs": [],
   "source": [
    "criterion = torch.nn.MSELoss()\n",
    "def loss_function(output, waveform):\n",
    "    \"\"\"\n",
    "    Here we define the loss function that the model will try to optimize.\n",
    "    In this case, a simple reconstruction loss\n",
    "    \"\"\"\n",
    "    reconstructed_wav = output\n",
    "    loss = criterion(waveform, reconstructed_wav)\n",
    "    return loss"
   ]
  },
  {
   "cell_type": "code",
   "execution_count": 17,
   "metadata": {},
   "outputs": [],
   "source": [
    "class EQEvaluator(torch.nn.Module):\n",
    "    def __init__(self, sample_rate, sample_length):\n",
    "        \"\"\"\n",
    "        In the constructor we instantiate the layers\n",
    "        \"\"\"\n",
    "        super().__init__()\n",
    "        \n",
    "        # Params\n",
    "        self.sample_rate = sample_rate\n",
    "        self.sample_length = sample_length\n",
    "        \n",
    "        # Audio transforms\n",
    "        self.specgram = torchaudio.transforms.Spectrogram()\n",
    "        \n",
    "        # CNN Layers\n",
    "        self.conv1 = torch.nn.Conv2d(in_channels=1, out_channels=4, kernel_size=7, padding=3) #p = (f-1)/2\n",
    "        self.pool = torch.nn.MaxPool2d(2, 2)\n",
    "        self.conv2 = torch.nn.Conv2d(in_channels=4, out_channels=1, kernel_size=7, padding=3)\n",
    "        self.fc1 = torch.nn.Linear(100 * 276, 120)\n",
    "        self.fc2 = torch.nn.Linear(120, 1)\n",
    "\n",
    "    def forward(self, waveform):\n",
    "        \"\"\"\n",
    "        In the forward function we accept an input waveform, run it through\n",
    "        an LSTM, and decide if it's mastered or unmastered\n",
    "        \"\"\"\n",
    "        \n",
    "        # Turn audio into spectrogram\n",
    "        specgram = self.specgram(waveform) #torch.Size([batch_size, 1, 201, 552])\n",
    "        \n",
    "        # Run spectrogram through CNN \n",
    "        x = specgram\n",
    "        x = self.conv1(x)\n",
    "        x = torch.nn.functional.relu(x)\n",
    "        x = self.conv2(x)\n",
    "        x = self.pool(torch.nn.functional.relu(x))\n",
    "        \n",
    "        # Use output to generate the final prediction\n",
    "        x = x.view(-1, 100 * 276)\n",
    "        x = torch.nn.functional.relu(self.fc1(x))\n",
    "        logit = torch.nn.functional.relu(self.fc2(x))\n",
    "        \n",
    "        return logit"
   ]
  },
  {
   "cell_type": "code",
   "execution_count": 18,
   "metadata": {},
   "outputs": [],
   "source": [
    "checkpoint_path = f'./{RUN_NAME}.pt'"
   ]
  },
  {
   "cell_type": "code",
   "execution_count": 19,
   "metadata": {},
   "outputs": [],
   "source": [
    "def load_checkpoint(path):\n",
    "    checkpoint = torch.load(path)\n",
    "    generator = EQReconstructor(\n",
    "        sample_rate=checkpoint[\"hyperparameters\"][\"sample_rate\"],\n",
    "        sample_length=checkpoint[\"hyperparameters\"][\"sample_length\"],\n",
    "        direct=checkpoint[\"hyperparameters\"][\"direct\"]\n",
    "    ).to(f'cuda:{CUDANO}')\n",
    "    discriminator = EQEvaluator(\n",
    "        sample_rate=checkpoint[\"hyperparameters\"][\"sample_rate\"],\n",
    "        sample_length=checkpoint[\"hyperparameters\"][\"sample_length\"]\n",
    "    ).to(f'cuda:{CUDANO}')\n",
    "    if torch.cuda.device_count() > 1:\n",
    "        generator = torch.nn.DataParallel(generator)\n",
    "        discriminator = torch.nn.DataParallel(discriminator)\n",
    "    gen_optimizer = torch.optim.SGD(generator.parameters(), lr=checkpoint['hyperparameters']['lr'])\n",
    "    disc_optimizer = torch.optim.SGD(discriminator.parameters(), lr=checkpoint['hyperparameters']['lr'])\n",
    "    generator.load_state_dict(checkpoint['models']['generator'])\n",
    "    discriminator.load_state_dict(checkpoint['models']['discriminator'])\n",
    "    gen_optimizer.load_state_dict(checkpoint['optimizers']['generator'])\n",
    "    disc_optimizer.load_state_dict(checkpoint['optimizers']['discriminator'])\n",
    "    \n",
    "    return generator, discriminator, gen_optimizer, disc_optimizer, checkpoint"
   ]
  },
  {
   "cell_type": "code",
   "execution_count": 20,
   "metadata": {},
   "outputs": [],
   "source": [
    "generator, discriminator, gen_optimizer, disc_optimizer, checkpoint = load_checkpoint(checkpoint_path)"
   ]
  },
  {
   "cell_type": "code",
   "execution_count": 24,
   "metadata": {},
   "outputs": [
    {
     "data": {
      "text/plain": [
       "dict_keys(['epoch', 'sample'])"
      ]
     },
     "execution_count": 24,
     "metadata": {},
     "output_type": "execute_result"
    }
   ],
   "source": [
    "checkpoint['losses']['generator'].keys()"
   ]
  },
  {
   "cell_type": "code",
   "execution_count": 27,
   "metadata": {},
   "outputs": [
    {
     "ename": "SyntaxError",
     "evalue": "invalid syntax (<ipython-input-27-e9d4057f8db4>, line 7)",
     "output_type": "error",
     "traceback": [
      "\u001b[0;36m  File \u001b[0;32m\"<ipython-input-27-e9d4057f8db4>\"\u001b[0;36m, line \u001b[0;32m7\u001b[0m\n\u001b[0;31m    plt.savefig(f'gtzan_5_sec_{checkpoint['epochs']}_epochs_{lossname}_loss.png')\u001b[0m\n\u001b[0m                                                ^\u001b[0m\n\u001b[0;31mSyntaxError\u001b[0m\u001b[0;31m:\u001b[0m invalid syntax\n"
     ]
    }
   ],
   "source": [
    "for modelname in checkpoint['losses'].keys():\n",
    "    for lossname in checkpoint['losses'][modelname]:\n",
    "        plt.plot(checkpoint['losses'][modelname][lossname], label=f'{modelname} {lossname}')\n",
    "        plt.ylabel('loss')\n",
    "        plt.xlabel('epochs')\n",
    "        plt.title(f\"{lossname} loss on GTZAN 5-second examples, {checkpoint['epochs']} Epochs\")\n",
    "        plt.savefig(f\"gtzan_5_sec_{checkpoint['epochs']}_epochs_{lossname}_loss.png\")\n",
    "plt.legend()"
   ]
  },
  {
   "cell_type": "code",
   "execution_count": null,
   "metadata": {},
   "outputs": [],
   "source": [
    "plt.plot(full_losses)\n",
    "plt.ylabel('loss')\n",
    "plt.xlabel('samples')\n",
    "plt.title(f'Sample Loss on GTZAN 5-second examples, {EPOCHS} Epochs')\n",
    "plt.savefig('gtzan_5_sec_10_epochs_sample_loss.png')"
   ]
  },
  {
   "cell_type": "code",
   "execution_count": null,
   "metadata": {},
   "outputs": [],
   "source": []
  }
 ],
 "metadata": {
  "kernelspec": {
   "display_name": "gpuvenv",
   "language": "python",
   "name": "gpuvenv"
  },
  "language_info": {
   "codemirror_mode": {
    "name": "ipython",
    "version": 3
   },
   "file_extension": ".py",
   "mimetype": "text/x-python",
   "name": "python",
   "nbconvert_exporter": "python",
   "pygments_lexer": "ipython3",
   "version": "3.7.3"
  }
 },
 "nbformat": 4,
 "nbformat_minor": 2
}
